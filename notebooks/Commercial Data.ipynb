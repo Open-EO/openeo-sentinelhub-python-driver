{
 "cells": [
  {
   "cell_type": "code",
   "execution_count": 1,
   "id": "be6e19d2",
   "metadata": {},
   "outputs": [],
   "source": [
    "import os\n",
    "\n",
    "import openeo\n",
    "import requests\n",
    "from requests import Request, Session"
   ]
  },
  {
   "cell_type": "code",
   "execution_count": 2,
   "id": "a147ca9d",
   "metadata": {},
   "outputs": [],
   "source": [
    "SENTINELHUB_BACKEND_URL = \"http://127.0.0.1:5000\"\n",
    "SENTINELHUB_USERNAME = os.environ[\"SH_CLIENT_ID\"]\n",
    "SENTINELHUB_PASSWORD = os.environ[\"SH_CLIENT_SECRET\"]"
   ]
  },
  {
   "cell_type": "code",
   "execution_count": 20,
   "id": "843dc417",
   "metadata": {},
   "outputs": [],
   "source": [
    "connection = openeo.connect(SENTINELHUB_BACKEND_URL)\n",
    "connection.authenticate_basic(SENTINELHUB_USERNAME, SENTINELHUB_PASSWORD)\n",
    "\n",
    "def send_authenticated_request(request):\n",
    "    s = Session()\n",
    "    r = s.send(connection.auth(request).prepare())  \n",
    "    try:\n",
    "        r.raise_for_status()\n",
    "        return r.json()\n",
    "    except requests.exceptions.JSONDecodeError as e:\n",
    "        return r.headers\n",
    "    except requests.exceptions.RequestException as e:\n",
    "        print(e)\n",
    "        print(e.response.text)\n",
    "    "
   ]
  },
  {
   "cell_type": "markdown",
   "id": "c4a90c51",
   "metadata": {},
   "source": [
    "Find collections that can be ordered:"
   ]
  },
  {
   "cell_type": "code",
   "execution_count": 4,
   "id": "5e8192ca",
   "metadata": {
    "scrolled": true
   },
   "outputs": [
    {
     "data": {
      "text/plain": [
       "[{'description': \"PlanetScope is one of the satellite constellation operated by Planet. PlanetScope satellite constellation consists of more than 130 small satellites called Doves. Each Dove satellite is a CubeSat made of three cubic units and thus measures only 10 cm x 10 cm x 30 cm. The satellites are launched in groups, which constantly improves mission's characteristics such as revisit times, spatial and spectral resolutions. The constellation is constantly on and does not require an acquisition planning. PlanetScope is commercial data and has to be ordered by the user\",\n",
       "  'extent': {'spatial': {'bbox': [[-180, -90, 180, 90]]},\n",
       "   'temporal': {'interval': [['2016-01-01T00:00:00Z', None]]}},\n",
       "  'id': 'PLANETSCOPE',\n",
       "  'license': 'various',\n",
       "  'links': [],\n",
       "  'order:status': 'orderable',\n",
       "  'stac_version': '1.0.0'},\n",
       " {'description': 'Pleiades is a satellite constellation providing very high-resolution optical imagery and is owned by Airbus. It is now possible to purchase, order and access Pleiades data using Sentinel Hub (SH).',\n",
       "  'extent': {'spatial': {'bbox': [[-180, -90, 180, 90]]},\n",
       "   'temporal': {'interval': [['2011-12-01T00:00:00Z', None]]}},\n",
       "  'id': 'PLEIADES',\n",
       "  'license': 'various',\n",
       "  'links': [],\n",
       "  'order:status': 'orderable',\n",
       "  'stac_version': '1.0.0'},\n",
       " {'description': 'SPOT 6/7 is a satellite constellation providing very high-resolution optical imagery and is owned by Airbus. It is now possible to purchase, order and access SPOT data using Sentinel Hub (SH).',\n",
       "  'extent': {'spatial': {'bbox': [[-180, -90, 180, 90]]},\n",
       "   'temporal': {'interval': [['2012-09-01T00:00:00Z', None]]}},\n",
       "  'id': 'SPOT',\n",
       "  'license': 'various',\n",
       "  'links': [],\n",
       "  'order:status': 'orderable',\n",
       "  'stac_version': '1.0.0'},\n",
       " {'description': 'WorldView provides high resolution optical imagery and is owned by Maxar. It is now possible to purchase, order and access WorldView data using Sentinel Hub (SH). Sentinel Hub orders WorldView data through European Space Imaging.',\n",
       "  'extent': {'spatial': {'bbox': [[-180, -90, 180, 90]]},\n",
       "   'temporal': {'interval': [['2009-01-01T00:00:00Z', None]]}},\n",
       "  'id': 'WORLDVIEW',\n",
       "  'license': 'various',\n",
       "  'links': [],\n",
       "  'order:status': 'orderable',\n",
       "  'stac_version': '1.0.0'}]"
      ]
     },
     "execution_count": 4,
     "metadata": {},
     "output_type": "execute_result"
    }
   ],
   "source": [
    "collections = connection.list_collections()\n",
    "orderable_collections = [collection for collection in collections if collection.get(\"order:status\") == \"orderable\"]\n",
    "orderable_collections"
   ]
  },
  {
   "cell_type": "code",
   "execution_count": 5,
   "id": "ed9bab48",
   "metadata": {},
   "outputs": [],
   "source": [
    "collection_to_order = \"SPOT\""
   ]
  },
  {
   "cell_type": "markdown",
   "id": "ddff8357",
   "metadata": {},
   "source": [
    "Get properties we can filter our search by:"
   ]
  },
  {
   "cell_type": "code",
   "execution_count": 6,
   "id": "fd6deaec",
   "metadata": {
    "scrolled": true
   },
   "outputs": [
    {
     "data": {
      "text/plain": [
       "{'$id': 'https://stac-api.example.com/queryables',\n",
       " '$schema': 'https://json-schema.org/draft/2019-09/schema',\n",
       " 'additionalProperties': True,\n",
       " 'properties': {'expirationDate': {'properties': {'from': {'description': 'ISO-8601 time representing start of search interval, e.g. 2019-01-31T14:00:00+01:00',\n",
       "     'format': 'date-time',\n",
       "     'type': 'string'},\n",
       "    'to': {'description': 'ISO-8601 time representing end of search interval, e.g. 2019-02-05T15:00:00+01:00.',\n",
       "     'format': 'date-time',\n",
       "     'type': 'string'}},\n",
       "   'type': 'object'},\n",
       "  'maxCloudCoverage': {'default': 100,\n",
       "   'description': 'The maximum allowable cloud coverage in percent.',\n",
       "   'format': 'double',\n",
       "   'maximum': 100,\n",
       "   'minimum': 0,\n",
       "   'type': 'number'},\n",
       "  'maxIncidenceAngle': {'default': 90,\n",
       "   'description': 'The maximum allowable incidence angle in degrees.',\n",
       "   'format': 'double',\n",
       "   'maximum': 90,\n",
       "   'minimum': 0,\n",
       "   'type': 'number'},\n",
       "  'maxSnowCoverage': {'default': 100,\n",
       "   'description': 'The maximum allowable snow coverage in percent.',\n",
       "   'format': 'double',\n",
       "   'maximum': 100,\n",
       "   'minimum': 0,\n",
       "   'type': 'number'},\n",
       "  'processingLevel': {'description': 'When searching, you will receive results from the full catalog as well as the Living Library, which holds images that have cloud cover under 30% and Incidence angle under 40°. If you want to search only Living Library results, you will need to filter using processingLevel. This value could be equal to SENSOR (images which meet Living Library criteria) and ALBUM (images that do not meeting Living Library criteria in terms of incidence angle and cloud cover).\\n',\n",
       "   'enum': ['SENSOR', 'ALBUM'],\n",
       "   'type': 'string'},\n",
       "  'timeRange': {'properties': {'from': {'description': 'ISO-8601 time representing start of search interval, e.g. 2019-01-31T14:00:00+01:00',\n",
       "     'format': 'date-time',\n",
       "     'type': 'string'},\n",
       "    'to': {'description': 'ISO-8601 time representing end of search interval, e.g. 2019-02-05T15:00:00+01:00.',\n",
       "     'format': 'date-time',\n",
       "     'type': 'string'}},\n",
       "   'type': 'object'}}}"
      ]
     },
     "execution_count": 6,
     "metadata": {},
     "output_type": "execute_result"
    }
   ],
   "source": [
    "requests.get(f\"{SENTINELHUB_BACKEND_URL}/collections/{collection_to_order}/queryables\").json()"
   ]
  },
  {
   "cell_type": "markdown",
   "id": "76a52bad",
   "metadata": {},
   "source": [
    "Example search for available products:"
   ]
  },
  {
   "cell_type": "code",
   "execution_count": 7,
   "id": "2e475b77",
   "metadata": {},
   "outputs": [
    {
     "data": {
      "text/plain": [
       "{'features': [{'assets': {},\n",
       "   'geometry': {'coordinates': [[[4.627407610599472, 48.102412163813085],\n",
       "      [4.633725079743262, 47.56701513374118],\n",
       "      [5.438156271022335, 47.564157439121544],\n",
       "      [5.443088162798822, 48.09849582876027],\n",
       "      [4.627407610599472, 48.102412163813085]]],\n",
       "    'type': 'Polygon'},\n",
       "   'id': '784ec28c-7387-4a69-80a9-7764cd737683',\n",
       "   'links': [],\n",
       "   'properties': {'acquisitionDate': '2022-06-16T10:14:11.499Z',\n",
       "    'acquisitionIdentifier': 'DS_SPOT7_202206161014115_GS1_GS1_GS1_GS1_E005N48_01871',\n",
       "    'acquisitionStation': 'GS1',\n",
       "    'activityId': 'f57310b9-2174-4474-b41f-9069c5854676',\n",
       "    'archivingCenter': 'GS1',\n",
       "    'azimuthAngle': 179.98432747737607,\n",
       "    'cloudCover': 0,\n",
       "    'constellation': 'SPOT',\n",
       "    'correlationId': '1b38b1a7-31c3-4914-aefd-34015ccd6683',\n",
       "    'expirationDate': '2032-06-27T11:27:06.212530813Z',\n",
       "    'format': 'image/tiff',\n",
       "    'geometryCentroid': {'lat': 47.833541741177775, 'lon': 5.035247886698641},\n",
       "    'id': '784ec28c-7387-4a69-80a9-7764cd737683',\n",
       "    'illuminationAzimuthAngle': 137.7154391709402,\n",
       "    'illuminationElevationAngle': 60.13664472930084,\n",
       "    'incidenceAngle': 5.291692563056705,\n",
       "    'incidenceAngleAcrossTrack': 3.9167922079489736,\n",
       "    'incidenceAngleAlongTrack': 3.577528404067265,\n",
       "    'lastUpdateDate': '2022-06-30T11:28:51.47459Z',\n",
       "    'organisationName': 'AIRBUS DS GEO',\n",
       "    'parentIdentifier': 'DS_SPOT7_202206161014115_GS1_GS1_GS1_GS1_E005N48_01871',\n",
       "    'platform': 'SPOT7',\n",
       "    'processingCenter': 'MOC',\n",
       "    'processingDate': '2022-06-16T11:03:07.801Z',\n",
       "    'processingLevel': 'ALBUM',\n",
       "    'processorName': 'MMCAT',\n",
       "    'productCategory': 'image',\n",
       "    'productType': 'mono',\n",
       "    'productionStatus': 'ARCHIVED',\n",
       "    'publicationDate': '2022-06-30T11:28:51.47459Z',\n",
       "    'qualified': False,\n",
       "    'resolution': 1.5,\n",
       "    'sensorType': 'OPTICAL',\n",
       "    'snowCover': 0,\n",
       "    'sourceIdentifier': 'DS_SPOT7_202206161014115_GS1_GS1_GS1_GS1_E005N48_01871',\n",
       "    'spectralRange': 'VISIBLE',\n",
       "    'title': '',\n",
       "    'workspaceId': '0e33eb50-3404-48ad-b835-b0b4b72a5625',\n",
       "    'workspaceName': 'public',\n",
       "    'workspaceTitle': 'Public'},\n",
       "   'stac_version': '1.0.0',\n",
       "   'type': 'Feature'},\n",
       "  {'assets': {},\n",
       "   'geometry': {'coordinates': [[[4.627407610599472, 48.102412163813085],\n",
       "      [4.633725079743262, 47.56701513374118],\n",
       "      [5.438156271022335, 47.564157439121544],\n",
       "      [5.443088162798822, 48.09849582876027],\n",
       "      [4.627407610599472, 48.102412163813085]]],\n",
       "    'type': 'Polygon'},\n",
       "   'id': '101a1840-7992-4865-930f-6763883f5311',\n",
       "   'links': [],\n",
       "   'properties': {'acquisitionDate': '2022-06-16T10:14:11.499Z',\n",
       "    'acquisitionIdentifier': 'DS_SPOT7_202206161014115_FR1_GS1_FR1_GS1_E005N48_01871',\n",
       "    'acquisitionStation': 'FR1',\n",
       "    'activityId': '528d8701-2872-478f-8f45-c06ab6246c77',\n",
       "    'archivingCenter': 'FR1',\n",
       "    'azimuthAngle': 179.98432747737607,\n",
       "    'cloudCover': 0,\n",
       "    'constellation': 'SPOT',\n",
       "    'correlationId': 'cace0438-2ddc-4fc4-8a2f-1ad83549723d',\n",
       "    'expirationDate': '2032-06-27T10:57:05.269548135Z',\n",
       "    'format': 'image/tiff',\n",
       "    'geometryCentroid': {'lat': 47.833541741177775, 'lon': 5.035247886698641},\n",
       "    'id': '101a1840-7992-4865-930f-6763883f5311',\n",
       "    'illuminationAzimuthAngle': 137.7154391709402,\n",
       "    'illuminationElevationAngle': 60.13664472930084,\n",
       "    'incidenceAngle': 5.291692563056705,\n",
       "    'incidenceAngleAcrossTrack': 3.9167922079489736,\n",
       "    'incidenceAngleAlongTrack': 3.577528404067265,\n",
       "    'lastUpdateDate': '2022-06-30T10:58:00.422655508Z',\n",
       "    'organisationName': 'AIRBUS DS GEO',\n",
       "    'parentIdentifier': 'DS_SPOT7_202206161014115_FR1_GS1_FR1_GS1_E005N48_01871',\n",
       "    'platform': 'SPOT7',\n",
       "    'processingCenter': 'MOC',\n",
       "    'processingDate': '2022-06-16T10:46:13.847Z',\n",
       "    'processingLevel': 'ALBUM',\n",
       "    'processorName': 'MMCAT',\n",
       "    'productCategory': 'image',\n",
       "    'productType': 'mono',\n",
       "    'productionStatus': 'ARCHIVED',\n",
       "    'publicationDate': '2022-06-30T10:58:00.422655508Z',\n",
       "    'qualified': False,\n",
       "    'resolution': 1.5,\n",
       "    'sensorType': 'OPTICAL',\n",
       "    'snowCover': 0,\n",
       "    'sourceIdentifier': 'DS_SPOT7_202206161014115_FR1_GS1_FR1_GS1_E005N48_01871',\n",
       "    'spectralRange': 'VISIBLE',\n",
       "    'title': '',\n",
       "    'workspaceId': '0e33eb50-3404-48ad-b835-b0b4b72a5625',\n",
       "    'workspaceName': 'public',\n",
       "    'workspaceTitle': 'Public'},\n",
       "   'stac_version': '1.0.0',\n",
       "   'type': 'Feature'},\n",
       "  {'assets': {},\n",
       "   'geometry': {'coordinates': [[[4.61301775755739, 48.106382503420335],\n",
       "      [4.621292285558932, 47.5742745882565],\n",
       "      [5.448294039219827, 47.57528767169931],\n",
       "      [5.455869514018064, 48.1072872836078],\n",
       "      [4.61301775755739, 48.106382503420335]]],\n",
       "    'type': 'Polygon'},\n",
       "   'id': '0639f2e1-f349-4135-b030-5e9250dc6752',\n",
       "   'links': [],\n",
       "   'properties': {'acquisitionDate': '2022-06-10T10:08:40.374Z',\n",
       "    'acquisitionIdentifier': 'DS_SPOT6_202206101008404_GS1_GS1_GS1_GS1_E005N48_01871',\n",
       "    'acquisitionStation': 'GS1',\n",
       "    'activityId': 'bcc583ed-1e3f-44b3-9539-e8e1e328fc7a',\n",
       "    'archivingCenter': 'GS1',\n",
       "    'azimuthAngle': 179.9860844601216,\n",
       "    'cloudCover': 2.8214429665457477,\n",
       "    'constellation': 'SPOT',\n",
       "    'correlationId': 'f1988909-704b-447e-b145-cbec2faa468b',\n",
       "    'expirationDate': '2032-06-21T11:27:17.761513752Z',\n",
       "    'format': 'image/tiff',\n",
       "    'geometryCentroid': {'lat': 47.841287210659345, 'lon': 5.034443635787779},\n",
       "    'id': '0639f2e1-f349-4135-b030-5e9250dc6752',\n",
       "    'illuminationAzimuthAngle': 136.4212500771677,\n",
       "    'illuminationElevationAngle': 59.26957418830181,\n",
       "    'incidenceAngle': 11.156864599983551,\n",
       "    'incidenceAngleAcrossTrack': 11.111094350861018,\n",
       "    'incidenceAngleAlongTrack': -1.2188458065400662,\n",
       "    'lastUpdateDate': '2022-06-24T11:29:39.224983971Z',\n",
       "    'organisationName': 'AIRBUS DS GEO',\n",
       "    'parentIdentifier': 'DS_SPOT6_202206101008404_GS1_GS1_GS1_GS1_E005N48_01871',\n",
       "    'platform': 'SPOT6',\n",
       "    'processingCenter': 'MOC',\n",
       "    'processingDate': '2022-06-10T11:06:10.902Z',\n",
       "    'processingLevel': 'ALBUM',\n",
       "    'processorName': 'MMCAT',\n",
       "    'productCategory': 'image',\n",
       "    'productType': 'mono',\n",
       "    'productionStatus': 'ARCHIVED',\n",
       "    'publicationDate': '2022-06-24T11:29:39.224983971Z',\n",
       "    'qualified': False,\n",
       "    'resolution': 1.5,\n",
       "    'sensorType': 'OPTICAL',\n",
       "    'snowCover': 0,\n",
       "    'sourceIdentifier': 'DS_SPOT6_202206101008404_GS1_GS1_GS1_GS1_E005N48_01871',\n",
       "    'spectralRange': 'VISIBLE',\n",
       "    'title': '',\n",
       "    'workspaceId': '0e33eb50-3404-48ad-b835-b0b4b72a5625',\n",
       "    'workspaceName': 'public',\n",
       "    'workspaceTitle': 'Public'},\n",
       "   'stac_version': '1.0.0',\n",
       "   'type': 'Feature'},\n",
       "  {'assets': {},\n",
       "   'geometry': {'coordinates': [[[4.61301775755739, 48.106382503420335],\n",
       "      [4.621292285558932, 47.5742745882565],\n",
       "      [5.448294039219827, 47.57528767169931],\n",
       "      [5.455869514018064, 48.1072872836078],\n",
       "      [4.61301775755739, 48.106382503420335]]],\n",
       "    'type': 'Polygon'},\n",
       "   'id': '42cdbc54-27e6-449a-8af7-410a51d49bc1',\n",
       "   'links': [],\n",
       "   'properties': {'acquisitionDate': '2022-06-10T10:08:40.374Z',\n",
       "    'acquisitionIdentifier': 'DS_SPOT6_202206101008404_FR1_GS1_FR1_GS1_E005N48_01871',\n",
       "    'acquisitionStation': 'FR1',\n",
       "    'activityId': 'c350b09c-7e03-4f9f-834e-4005334f16c5',\n",
       "    'archivingCenter': 'FR1',\n",
       "    'azimuthAngle': 179.9860844601216,\n",
       "    'cloudCover': 2.8214429665457477,\n",
       "    'constellation': 'SPOT',\n",
       "    'correlationId': '2ec13d19-0053-4993-aede-f83df03108af',\n",
       "    'expirationDate': '2032-06-21T10:32:08.613773014Z',\n",
       "    'format': 'image/tiff',\n",
       "    'geometryCentroid': {'lat': 47.841287210659345, 'lon': 5.034443635787779},\n",
       "    'id': '42cdbc54-27e6-449a-8af7-410a51d49bc1',\n",
       "    'illuminationAzimuthAngle': 136.4212500771677,\n",
       "    'illuminationElevationAngle': 59.26957418830181,\n",
       "    'incidenceAngle': 11.156864599983551,\n",
       "    'incidenceAngleAcrossTrack': 11.111094350861018,\n",
       "    'incidenceAngleAlongTrack': -1.2188458065400662,\n",
       "    'lastUpdateDate': '2022-06-24T10:34:07.92013792Z',\n",
       "    'organisationName': 'AIRBUS DS GEO',\n",
       "    'parentIdentifier': 'DS_SPOT6_202206101008404_FR1_GS1_FR1_GS1_E005N48_01871',\n",
       "    'platform': 'SPOT6',\n",
       "    'processingCenter': 'MOC',\n",
       "    'processingDate': '2022-06-10T10:23:09.953Z',\n",
       "    'processingLevel': 'ALBUM',\n",
       "    'processorName': 'MMCAT',\n",
       "    'productCategory': 'image',\n",
       "    'productType': 'mono',\n",
       "    'productionStatus': 'ARCHIVED',\n",
       "    'publicationDate': '2022-06-24T10:34:07.92013792Z',\n",
       "    'qualified': False,\n",
       "    'resolution': 1.5,\n",
       "    'sensorType': 'OPTICAL',\n",
       "    'snowCover': 0,\n",
       "    'sourceIdentifier': 'DS_SPOT6_202206101008404_FR1_GS1_FR1_GS1_E005N48_01871',\n",
       "    'spectralRange': 'VISIBLE',\n",
       "    'title': '',\n",
       "    'workspaceId': '0e33eb50-3404-48ad-b835-b0b4b72a5625',\n",
       "    'workspaceName': 'public',\n",
       "    'workspaceTitle': 'Public'},\n",
       "   'stac_version': '1.0.0',\n",
       "   'type': 'Feature'}],\n",
       " 'links': [],\n",
       " 'type': 'FeatureCollection'}"
      ]
     },
     "execution_count": 7,
     "metadata": {},
     "output_type": "execute_result"
    }
   ],
   "source": [
    "payload = {\n",
    "   \"bbox\":[4.9, 47.9, 5, 48],\n",
    "   \"datetime\":\"2022-05-20T00:00:00.000Z/2022-08-20T23:59:59.999Z\",\n",
    "   \"collections\":[collection_to_order],\n",
    "   \"limit\":50,\n",
    "   \"filter\":{\n",
    "      \"op\":\"and\",\n",
    "      \"args\":[\n",
    "         {\n",
    "            \"op\":\"=\",\n",
    "            \"args\":[\n",
    "               {\n",
    "                  \"property\":\"maxCloudCoverage\"\n",
    "               },\n",
    "               67\n",
    "            ]\n",
    "         },\n",
    "         {\n",
    "            \"op\":\"=\",\n",
    "            \"args\":[\n",
    "               {\n",
    "                  \"property\":\"processingLevel\"\n",
    "               },\n",
    "               \"ALBUM\"\n",
    "            ]\n",
    "         }\n",
    "      ]\n",
    "   }\n",
    "}\n",
    "\n",
    "available_products = send_authenticated_request(Request('POST', f\"{SENTINELHUB_BACKEND_URL}/search\", json=payload))\n",
    "available_products"
   ]
  },
  {
   "cell_type": "markdown",
   "id": "3548ca3b",
   "metadata": {},
   "source": [
    "Get list of existing orders:"
   ]
  },
  {
   "cell_type": "code",
   "execution_count": 8,
   "id": "5b065f1c",
   "metadata": {},
   "outputs": [
    {
     "data": {
      "text/plain": [
       "{'links': {'currentToken': '0'},\n",
       " 'orders': [{'costs': None,\n",
       "   'id': '3e664445-8cf0-400c-a81d-b3e77b4c5b1a',\n",
       "   'items': ['988736cf-50c9-43e2-90bc-33c9675c2dea'],\n",
       "   'order:date': '2022-08-17T08:25:43.072417Z',\n",
       "   'order:id': '3e664445-8cf0-400c-a81d-b3e77b4c5b1a',\n",
       "   'order:status': 'orderable',\n",
       "   'source_collection_id': 'SPOT',\n",
       "   'target_collection_id': 'SPOT'},\n",
       "  {'costs': None,\n",
       "   'id': '6729269f-6059-4395-9a7f-b57f702928b6',\n",
       "   'items': ['74f0205c-138f-477a-9b95-b1800661cc1d'],\n",
       "   'order:date': '2022-08-20T15:56:43.320183Z',\n",
       "   'order:id': '6729269f-6059-4395-9a7f-b57f702928b6',\n",
       "   'order:status': 'ordered',\n",
       "   'source_collection_id': 'SPOT',\n",
       "   'target_collection_id': 'SPOT'},\n",
       "  {'costs': None,\n",
       "   'id': '7418382f-c765-413e-b497-6c8c9426e578',\n",
       "   'items': ['15b33de6-a301-4270-b240-c965ed0ef268'],\n",
       "   'order:date': '2022-08-17T09:01:36.253353Z',\n",
       "   'order:id': '7418382f-c765-413e-b497-6c8c9426e578',\n",
       "   'order:status': 'orderable',\n",
       "   'source_collection_id': 'PLEIADES',\n",
       "   'target_collection_id': 'PLEIADES'},\n",
       "  {'costs': None,\n",
       "   'id': '80f4e3a3-1135-4872-9dfd-b968f911f2b4',\n",
       "   'items': ['988736cf-50c9-43e2-90bc-33c9675c2dea'],\n",
       "   'order:date': '2022-08-16T08:04:16.036787Z',\n",
       "   'order:id': '80f4e3a3-1135-4872-9dfd-b968f911f2b4',\n",
       "   'order:status': 'orderable',\n",
       "   'source_collection_id': 'SPOT',\n",
       "   'target_collection_id': 'SPOT'},\n",
       "  {'costs': None,\n",
       "   'id': '8a5bee83-b09e-4234-b100-96a94037f12c',\n",
       "   'items': ['784ec28c-7387-4a69-80a9-7764cd737683'],\n",
       "   'order:date': '2022-08-22T12:00:54.545977Z',\n",
       "   'order:id': '8a5bee83-b09e-4234-b100-96a94037f12c',\n",
       "   'order:status': 'orderable',\n",
       "   'source_collection_id': 'SPOT',\n",
       "   'target_collection_id': 'SPOT'},\n",
       "  {'costs': None,\n",
       "   'id': 'f1652d5e-f2c6-4bc3-b219-64c051a97d89',\n",
       "   'items': ['988736cf-50c9-43e2-90bc-33c9675c2dea'],\n",
       "   'order:date': '2022-08-21T16:32:49.900130Z',\n",
       "   'order:id': 'f1652d5e-f2c6-4bc3-b219-64c051a97d89',\n",
       "   'order:status': 'orderable',\n",
       "   'source_collection_id': 'SPOT',\n",
       "   'target_collection_id': 'SPOT'}]}"
      ]
     },
     "execution_count": 8,
     "metadata": {},
     "output_type": "execute_result"
    }
   ],
   "source": [
    "send_authenticated_request(Request('GET', f\"{SENTINELHUB_BACKEND_URL}/orders\"))"
   ]
  },
  {
   "cell_type": "markdown",
   "id": "764dc9db",
   "metadata": {},
   "source": [
    "Parameters that can be used in the orders are listed in collection information."
   ]
  },
  {
   "cell_type": "code",
   "execution_count": 25,
   "id": "5fd0d28a",
   "metadata": {},
   "outputs": [
    {
     "ename": "KeyError",
     "evalue": "'order_parameters'",
     "output_type": "error",
     "traceback": [
      "\u001b[1;31m---------------------------------------------------------------------------\u001b[0m",
      "\u001b[1;31mKeyError\u001b[0m                                  Traceback (most recent call last)",
      "Input \u001b[1;32mIn [25]\u001b[0m, in \u001b[0;36m<cell line: 1>\u001b[1;34m()\u001b[0m\n\u001b[1;32m----> 1\u001b[0m \u001b[43mconnection\u001b[49m\u001b[38;5;241;43m.\u001b[39;49m\u001b[43mdescribe_collection\u001b[49m\u001b[43m(\u001b[49m\u001b[43mcollection_to_order\u001b[49m\u001b[43m)\u001b[49m\u001b[43m[\u001b[49m\u001b[38;5;124;43m\"\u001b[39;49m\u001b[38;5;124;43morder_parameters\u001b[39;49m\u001b[38;5;124;43m\"\u001b[39;49m\u001b[43m]\u001b[49m\n",
      "\u001b[1;31mKeyError\u001b[0m: 'order_parameters'"
     ]
    }
   ],
   "source": [
    "connection.describe_collection(collection_to_order)[\"order_parameters\"]"
   ]
  },
  {
   "cell_type": "markdown",
   "id": "a65a220d",
   "metadata": {},
   "source": [
    "Prepare an order:"
   ]
  },
  {
   "cell_type": "code",
   "execution_count": 23,
   "id": "392f1930",
   "metadata": {},
   "outputs": [],
   "source": [
    "payload = {\n",
    "   \"source_collection_id\": collection_to_order,\n",
    "   \"items\":[\n",
    "      available_products[\"features\"][0][\"id\"]\n",
    "   ],\n",
    "   \"parameters\":{\n",
    "      \"geometry\": available_products[\"features\"][0][\"geometry\"]\n",
    "   }\n",
    "}\n",
    "\n",
    "headers = send_authenticated_request(Request('POST', f\"{SENTINELHUB_BACKEND_URL}/orders\", json=payload))"
   ]
  },
  {
   "cell_type": "code",
   "execution_count": 24,
   "id": "bd7e8007",
   "metadata": {},
   "outputs": [
    {
     "data": {
      "text/plain": [
       "{'costs': None,\n",
       " 'id': '401805c9-ec10-457b-ba0a-20e9251acea0',\n",
       " 'items': ['784ec28c-7387-4a69-80a9-7764cd737683'],\n",
       " 'order:date': '2022-08-22T12:18:50.882335Z',\n",
       " 'order:id': '401805c9-ec10-457b-ba0a-20e9251acea0',\n",
       " 'order:status': 'orderable',\n",
       " 'source_collection_id': 'SPOT',\n",
       " 'target_collection_id': 'SPOT'}"
      ]
     },
     "execution_count": 24,
     "metadata": {},
     "output_type": "execute_result"
    }
   ],
   "source": [
    "send_authenticated_request(Request('GET', f\"{SENTINELHUB_BACKEND_URL}/orders/{headers['OpenEO-Identifier']}\"))"
   ]
  },
  {
   "cell_type": "code",
   "execution_count": null,
   "id": "8469e97c",
   "metadata": {},
   "outputs": [],
   "source": []
  }
 ],
 "metadata": {
  "kernelspec": {
   "display_name": "Python 3 (ipykernel)",
   "language": "python",
   "name": "python3"
  },
  "language_info": {
   "codemirror_mode": {
    "name": "ipython",
    "version": 3
   },
   "file_extension": ".py",
   "mimetype": "text/x-python",
   "name": "python",
   "nbconvert_exporter": "python",
   "pygments_lexer": "ipython3",
   "version": "3.9.13"
  }
 },
 "nbformat": 4,
 "nbformat_minor": 5
}
