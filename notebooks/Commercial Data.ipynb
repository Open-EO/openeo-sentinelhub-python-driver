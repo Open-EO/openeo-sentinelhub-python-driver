{
 "cells": [
  {
   "cell_type": "code",
   "execution_count": 1,
   "id": "be6e19d2",
   "metadata": {},
   "outputs": [],
   "source": [
    "import openeo"
   ]
  },
  {
   "cell_type": "code",
   "execution_count": 2,
   "id": "a147ca9d",
   "metadata": {},
   "outputs": [],
   "source": [
    "SENTINELHUB_BACKEND_URL = \"http://127.0.0.1:5000\""
   ]
  },
  {
   "cell_type": "code",
   "execution_count": 3,
   "id": "843dc417",
   "metadata": {},
   "outputs": [],
   "source": [
    "connection = openeo.connect(SENTINELHUB_BACKEND_URL)"
   ]
  },
  {
   "cell_type": "code",
   "execution_count": 4,
   "id": "5e8192ca",
   "metadata": {},
   "outputs": [
    {
     "data": {
      "text/plain": [
       "[]"
      ]
     },
     "execution_count": 4,
     "metadata": {},
     "output_type": "execute_result"
    }
   ],
   "source": [
    "collections = connection.list_collections()\n",
    "orderable_collections = [collection for collection in collections if collection.get(\"orderable\", False)]\n",
    "orderable_collections"
   ]
  }
 ],
 "metadata": {
  "kernelspec": {
   "display_name": "Python 3 (ipykernel)",
   "language": "python",
   "name": "python3"
  },
  "language_info": {
   "codemirror_mode": {
    "name": "ipython",
    "version": 3
   },
   "file_extension": ".py",
   "mimetype": "text/x-python",
   "name": "python",
   "nbconvert_exporter": "python",
   "pygments_lexer": "ipython3",
   "version": "3.9.13"
  }
 },
 "nbformat": 4,
 "nbformat_minor": 5
}
